{
 "metadata": {
  "language_info": {
   "codemirror_mode": {
    "name": "ipython",
    "version": 3
   },
   "file_extension": ".py",
   "mimetype": "text/x-python",
   "name": "python",
   "nbconvert_exporter": "python",
   "pygments_lexer": "ipython3",
   "version": "3.8.5-final"
  },
  "orig_nbformat": 2,
  "kernelspec": {
   "name": "python3",
   "display_name": "Python 3.8.5 64-bit",
   "metadata": {
    "interpreter": {
     "hash": "767d51c1340bd893661ea55ea3124f6de3c7a262a8b4abca0554b478b1e2ff90"
    }
   }
  }
 },
 "nbformat": 4,
 "nbformat_minor": 2,
 "cells": [
  {
   "source": [
    "Problem 1"
   ],
   "cell_type": "markdown",
   "metadata": {}
  },
  {
   "source": [
    "## problem 1\n",
    "%reset\n",
    "import sympy as sp\n",
    " \n",
    "Ax,Ay,theta_ddot,phi_ddot = sp.symbols('Ax Ay theta_ddot phi_ddot',real=True)\n",
    "m,L,g = sp.symbols('m L g',real=True)\n",
    "theta = 30*sp.pi/180\n",
    "\n",
    "I_bar_com = 1/12*m*L**2\n",
    "I_disk_com = 1/2*(2*m)*(L/2)**2\n",
    "I_disk_edge = I_disk_com+(2*m)*(L/2)**2\n",
    "\n",
    "#sum of moments about disk edge\n",
    "eq1 = Ax*L/2+I_disk_edge*phi_ddot\n",
    "#sum of moments about com of bar\n",
    "eq2 = Ay*sp.sin(theta)*L/2+Ax*sp.cos(theta)*L/2+I_bar_com*theta_ddot\n",
    "#sum of forces in x dir\n",
    "eq3 = (L/2*phi_ddot+L/2*theta_ddot*sp.cos(theta))*m-Ax\n",
    "#sum of forces in y dir\n",
    "eq4 = (-L/2*theta_ddot*sp.sin(theta))*m+Ay+m*g"
   ],
   "cell_type": "code",
   "metadata": {},
   "execution_count": 17,
   "outputs": []
  },
  {
   "cell_type": "code",
   "execution_count": 18,
   "metadata": {},
   "outputs": [
    {
     "output_type": "execute_result",
     "data": {
      "text/plain": [
       "⎧                                                            -0.18895099718933\n",
       "⎨Ax: 0.283426495783998⋅g⋅m, Ay: -0.781818181818182⋅g⋅m, φ_ḋ: ────────────────\n",
       "⎩                                                                      L      \n",
       "\n",
       "2⋅g        0.872727272727273⋅g⎫\n",
       "─────, θ_ḋ: ───────────────────⎬\n",
       "                    L         ⎭"
      ],
      "image/png": "[encoded data removed]",
      "text/latex": "$\\displaystyle \\left\\{ Ax : 0.283426495783998 g m, \\  Ay : - 0.781818181818182 g m, \\  \\phi_{\\dot{d}} : - \\frac{0.188950997189332 g}{L}, \\  \\theta_{\\dot{d}} : \\frac{0.872727272727273 g}{L}\\right\\}$"
     },
     "metadata": {},
     "execution_count": 18
    }
   ],
   "source": [
    "sp.init_printing(use_unicode=True)\n",
    "sp.solve([eq1,eq2,eq3,eq4],(Ax,Ay,theta_ddot,phi_ddot))"
   ]
  },
  {
   "source": [
    "Problem 2"
   ],
   "cell_type": "markdown",
   "metadata": {}
  },
  {
   "cell_type": "code",
   "execution_count": 59,
   "metadata": {},
   "outputs": [
    {
     "output_type": "execute_result",
     "data": {
      "text/plain": [
       "⎡     ⎛         2        ⎛L           ⎞       ⎞              ⎛                \n",
       "⎢   Ω⋅⎜- Ω⋅a⋅cos (θ) - Ω⋅⎜─ + a⋅sin(θ)⎟⋅sin(θ)⎟⋅sin(θ) - θ_d⋅⎜-a⋅θ_d⋅sin(θ) + \n",
       "⎢     ⎝                  ⎝2           ⎠       ⎠              ⎝                \n",
       "⎢                                                                             \n",
       "⎢       ⎛         2        ⎛L           ⎞       ⎞                             \n",
       "⎢     Ω⋅⎜- Ω⋅a⋅cos (θ) - Ω⋅⎜─ + a⋅sin(θ)⎟⋅sin(θ)⎟⋅cos(θ) - a⋅θ_dd⋅sin(θ) + θ_d\n",
       "⎢       ⎝                  ⎝2           ⎠       ⎠                             \n",
       "⎢                                                                             \n",
       "⎢                              ⎛L           ⎞            ⎛                    \n",
       "⎢Ω⋅a⋅θ_d⋅sin(θ)⋅cos(θ) - Ω⋅θ_d⋅⎜─ + a⋅sin(θ)⎟⋅cos(θ) - Ω⋅⎜-a⋅θ_d⋅sin(θ) + θ_d⋅\n",
       "⎣                              ⎝2           ⎠            ⎝                    \n",
       "\n",
       "    ⎛L           ⎞⎞   ⎤\n",
       "θ_d⋅⎜─ + a⋅sin(θ)⎟⎟   ⎥\n",
       "    ⎝2           ⎠⎠   ⎥\n",
       "                      ⎥\n",
       "  ⎛L           ⎞      ⎥\n",
       "d⋅⎜─ + a⋅sin(θ)⎟      ⎥\n",
       "  ⎝2           ⎠      ⎥\n",
       "                      ⎥\n",
       "⎛L           ⎞⎞       ⎥\n",
       "⎜─ + a⋅sin(θ)⎟⎟⋅cos(θ)⎥\n",
       "⎝2           ⎠⎠       ⎦"
      ],
      "text/latex": "$\\displaystyle \\left[\\begin{matrix}\\Omega \\left(- \\Omega a \\cos^{2}{\\left(\\theta \\right)} - \\Omega \\left(\\frac{L}{2} + a \\sin{\\left(\\theta \\right)}\\right) \\sin{\\left(\\theta \\right)}\\right) \\sin{\\left(\\theta \\right)} - \\theta_{d} \\left(- a \\theta_{d} \\sin{\\left(\\theta \\right)} + \\theta_{d} \\left(\\frac{L}{2} + a \\sin{\\left(\\theta \\right)}\\right)\\right)\\\\\\Omega \\left(- \\Omega a \\cos^{2}{\\left(\\theta \\right)} - \\Omega \\left(\\frac{L}{2} + a \\sin{\\left(\\theta \\right)}\\right) \\sin{\\left(\\theta \\right)}\\right) \\cos{\\left(\\theta \\right)} - a \\theta_{dd} \\sin{\\left(\\theta \\right)} + \\theta_{dd} \\left(\\frac{L}{2} + a \\sin{\\left(\\theta \\right)}\\right)\\\\\\Omega a \\theta_{d} \\sin{\\left(\\theta \\right)} \\cos{\\left(\\theta \\right)} - \\Omega \\theta_{d} \\left(\\frac{L}{2} + a \\sin{\\left(\\theta \\right)}\\right) \\cos{\\left(\\theta \\right)} - \\Omega \\left(- a \\theta_{d} \\sin{\\left(\\theta \\right)} + \\theta_{d} \\left(\\frac{L}{2} + a \\sin{\\left(\\theta \\right)}\\right)\\right) \\cos{\\left(\\theta \\right)}\\end{matrix}\\right]$"
     },
     "metadata": {},
     "execution_count": 59
    }
   ],
   "source": [
    "%reset\n",
    "import sympy as sp\n",
    "from sympy.physics.vector import ReferenceFrame, dynamicsymbols, time_derivative\n",
    "from sympy import preview\n",
    "\n",
    "theta = dynamicsymbols('theta',real=True)\n",
    "Omega,a,L,g,m,theta_ddot = sp.symbols('Omega a L g m theta_dd',real=True)\n",
    "N = ReferenceFrame('N')\n",
    "theta_dot = dynamicsymbols('theta_d',real=True)\n",
    "\n",
    "omega = sp.Matrix([[-Omega*sp.cos(theta)],[Omega*sp.sin(theta)],[theta_dot]])\n",
    "r = sp.Matrix([[L/2+a*sp.sin(theta)],[a*sp.cos(theta)],[0]])\n",
    "r_dot = time_derivative(r,N)+omega.cross(r)\n",
    "#sub in dots\n",
    "r_dot = r_dot.subs(time_derivative(theta,N),theta_dot)\n",
    "\n",
    "r_ddot = time_derivative(r_dot,N)+omega.cross(r_dot)\n",
    "#sub in dots\n",
    "r_ddot = r_ddot.subs(time_derivative(theta,N),theta_dot)\n",
    "r_ddot = r_ddot.subs(time_derivative(theta_dot,N),theta_ddot)\n",
    "theta_s, theta_dot_s = sp.symbols('theta theta_d',real=True)\n",
    "r_ddot = r_ddot.subs(theta,theta_s)\n",
    "r_ddot = r_ddot.subs(theta_dot,theta_dot_s)\n",
    "omega = omega.subs(theta,theta_s)\n",
    "omega = omega.subs(theta_dot,theta_dot_s)\n",
    "# preview(r_ddot,symbol_names={theta_ddot:r'\\ddot{\\theta}',theta_dot:r'\\dot{\\theta}'})\n",
    "r_ddot\n",
    "\n"
   ]
  },
  {
   "cell_type": "code",
   "execution_count": 67,
   "metadata": {},
   "outputs": [
    {
     "output_type": "execute_result",
     "data": {
      "text/plain": [
       "True"
      ]
     },
     "metadata": {},
     "execution_count": 67
    }
   ],
   "source": [
    "B1, B2, B3 = sp.symbols('B1 B2 B3',real=True)\n",
    "alphay = Omega*theta_dot_s*sp.cos(theta_s)\n",
    "alphaz = theta_ddot\n",
    "eq1 = m*L**2/12*alphaz+m*L**2/12*omega[0]*omega[1]+L/2*B2\n",
    "eq2 = B1+m*g*sp.cos(theta_s)-m*r_ddot[0]\n",
    "eq3 = B2-m*g*sp.sin(theta_s)-m*r_ddot[1]\n",
    "eq4 = B3-m*r_ddot[2]\n",
    "result = sp.solve([eq1,eq2,eq3,eq4],(B1,B2,B3,theta_ddot))\n",
    "\n",
    "## checking solutions\n",
    "B2_sol = m*(g*sp.sin(theta_s)+L/2*theta_ddot-Omega**2*(L/2*sp.sin(theta_s)+a)*sp.cos(theta_s))\n",
    "theta_ddot_sol = 3/(L*2)*(-g*sp.sin(theta_s)+2*L/3*Omega**2*sp.sin(theta_s)*sp.cos(theta_s)+a*Omega**2*sp.cos(theta_s))\n",
    "theta_ddot_sol.equals(result.get(theta_ddot))\n",
    "B2_sol = B2_sol.subs(theta_ddot,theta_ddot_sol)\n",
    "B2_sol.equals(result.get(B2))"
   ]
  },
  {
   "cell_type": "code",
   "execution_count": 61,
   "metadata": {},
   "outputs": [
    {
     "output_type": "execute_result",
     "data": {
      "text/plain": [
       "   ⎛   2    2           2      2                      ⎞ \n",
       "-m⋅⎝L⋅Ω ⋅sin (θ) + L⋅θ_d  + 2⋅Ω ⋅a⋅sin(θ) + 2⋅g⋅cos(θ)⎠ \n",
       "────────────────────────────────────────────────────────\n",
       "                           2                            "
      ],
      "image/png": "[encoded data removed]",
      "text/latex": "$\\displaystyle - \\frac{m \\left(L \\Omega^{2} \\sin^{2}{\\left(\\theta \\right)} + L \\theta_{d}^{2} + 2 \\Omega^{2} a \\sin{\\left(\\theta \\right)} + 2 g \\cos{\\left(\\theta \\right)}\\right)}{2}$"
     },
     "metadata": {},
     "execution_count": 61
    }
   ],
   "source": [
    "result.get(B1)"
   ]
  },
  {
   "cell_type": "code",
   "execution_count": 62,
   "metadata": {},
   "outputs": [
    {
     "output_type": "execute_result",
     "data": {
      "text/plain": [
       "  ⎛   2                    ⎞\n",
       "m⋅⎝- Ω ⋅a⋅cos(θ) + g⋅sin(θ)⎠\n",
       "────────────────────────────\n",
       "             4              "
      ],
      "image/png": "[encoded data removed]",
      "text/latex": "$\\displaystyle \\frac{m \\left(- \\Omega^{2} a \\cos{\\left(\\theta \\right)} + g \\sin{\\left(\\theta \\right)}\\right)}{4}$"
     },
     "metadata": {},
     "execution_count": 62
    }
   ],
   "source": [
    "sp.simplify(result.get(B2))"
   ]
  },
  {
   "cell_type": "code",
   "execution_count": 63,
   "metadata": {},
   "outputs": [
    {
     "output_type": "execute_result",
     "data": {
      "text/plain": [
       "-L⋅Ω⋅m⋅θ_d⋅cos(θ)"
      ],
      "image/png": "[encoded data removed]",
      "text/latex": "$\\displaystyle - L \\Omega m \\theta_{d} \\cos{\\left(\\theta \\right)}$"
     },
     "metadata": {},
     "execution_count": 63
    }
   ],
   "source": [
    "result.get(B3)"
   ]
  },
  {
   "cell_type": "code",
   "execution_count": 64,
   "metadata": {},
   "outputs": [
    {
     "output_type": "execute_result",
     "data": {
      "text/plain": [
       "   2               2                      \n",
       "L⋅Ω ⋅sin(2⋅θ) + 3⋅Ω ⋅a⋅cos(θ) - 3⋅g⋅sin(θ)\n",
       "──────────────────────────────────────────\n",
       "                   2⋅L                    "
      ],
      "image/png": "[encoded data removed]",
      "text/latex": "$\\displaystyle \\frac{L \\Omega^{2} \\sin{\\left(2 \\theta \\right)} + 3 \\Omega^{2} a \\cos{\\left(\\theta \\right)} - 3 g \\sin{\\left(\\theta \\right)}}{2 L}$"
     },
     "metadata": {},
     "execution_count": 64
    }
   ],
   "source": [
    "sp.cancel(result.get(theta_ddot))"
   ]
  },
  {
   "source": [
    "Problem 3"
   ],
   "cell_type": "markdown",
   "metadata": {}
  },
  {
   "cell_type": "code",
   "execution_count": 52,
   "metadata": {},
   "outputs": [],
   "source": [
    "%reset\n",
    "import sympy as sp\n",
    "from sympy.physics.vector import ReferenceFrame, dynamicsymbols, time_derivative"
   ]
  },
  {
   "cell_type": "code",
   "execution_count": 53,
   "metadata": {},
   "outputs": [],
   "source": [
    "L,m,R,g,Omega = sp.symbols('L m R g Omega')\n",
    "theta = dynamicsymbols('theta',real=True)\n",
    "theta_dot = dynamicsymbols('theta_dot',real=True)\n",
    "\n",
    "omega_disk = sp.Matrix([[0],[theta_dot],[Omega]])\n",
    "d = sp.Matrix([[-L],[0],[0]])\n",
    "I_disk_com = sp.Matrix([[1/4,0,0],[0,1/4,0],[0,0,1/2]])*m*R**2\n",
    "scalar = d.transpose()*d\n",
    "I_disk_B = I_disk_com+m*(scalar[0]*sp.eye(3)-d*d.transpose())\n",
    "N = ReferenceFrame('N')\n",
    "omega_frame = sp.Matrix([[0],[theta_dot],[0]])\n",
    "alpha_disk = time_derivative(omega_disk,N)+omega_frame.cross(omega_disk)\n",
    "theta_dot_s = sp.symbols('theta_d',real=True)\n",
    "theta_s = sp.symbols('theta',real=True)\n",
    "theta_ddot = sp.symbols('theta_dd',real=True)\n",
    "omega_disk = omega_disk.subs(theta_dot,theta_dot_s)\n",
    "alpha_disk = alpha_disk.subs(time_derivative(theta_dot,N),theta_ddot)\n",
    "alpha_disk = alpha_disk.subs(theta_dot,theta_dot_s)"
   ]
  },
  {
   "cell_type": "code",
   "execution_count": 54,
   "metadata": {},
   "outputs": [
    {
     "output_type": "execute_result",
     "data": {
      "text/plain": [
       "⎧           2             2                2                  ⎫\n",
       "⎨Mx: 0.5⋅Ω⋅R ⋅m⋅θ_d, My: L ⋅m⋅θ_dd + 0.25⋅R ⋅m⋅θ_dd, Mz: L⋅g⋅m⎬\n",
       "⎩                                                             ⎭"
      ],
      "image/png": "[encoded data removed]",
      "text/latex": "$\\displaystyle \\left\\{ Mx : 0.5 \\Omega R^{2} m \\theta_{d}, \\  My : L^{2} m \\theta_{dd} + 0.25 R^{2} m \\theta_{dd}, \\  Mz : L g m\\right\\}$"
     },
     "metadata": {},
     "execution_count": 54
    }
   ],
   "source": [
    "Mx, My, Mz = sp.symbols('Mx My Mz',real=True)\n",
    "eq1 = I_disk_B[0,0]*alpha_disk[0]-(I_disk_B[1,1]-I_disk_B[2,2])*omega_disk[1]*omega_disk[2]-Mx\n",
    "eq2 = I_disk_B[1,1]*alpha_disk[1]-My\n",
    "eq3 = I_disk_B[2,2]*alpha_disk[2]-Mz+m*g*L\n",
    "sp.init_printing(use_unicode=True)\n",
    "sp.solve([eq1,eq2,eq3],(Mx,My,Mz))\n"
   ]
  },
  {
   "source": [
    "Problem 4"
   ],
   "cell_type": "markdown",
   "metadata": {}
  },
  {
   "cell_type": "code",
   "execution_count": 69,
   "metadata": {},
   "outputs": [],
   "source": [
    "%reset\n",
    "import sympy as sp\n",
    "import numpy as np\n",
    "from sympy.physics.vector import ReferenceFrame, dynamicsymbols, time_derivative"
   ]
  },
  {
   "cell_type": "code",
   "execution_count": 70,
   "metadata": {},
   "outputs": [],
   "source": [
    "a,m,g,Omega = sp.symbols('a m g Omega')\n",
    "I_com_p = sp.Matrix([[1/12*m*(a**2+16*a**2),0,0],[0,1/12*m*a**2*16,0],[0,0,1/12*m*a**2]])\n",
    "ang = 30*np.pi/180\n",
    "R = sp.Matrix([[sp.cos(ang),0,-sp.sin(ang)],[0,1,0],[sp.sin(ang),0,sp.cos(ang)]])\n",
    "I_com_theta = R*I_com_p*R.transpose()\n"
   ]
  },
  {
   "cell_type": "code",
   "execution_count": 77,
   "metadata": {},
   "outputs": [],
   "source": [
    "Ay,Az,By,Bz = sp.symbols('Ay Az By Bz',real=True)\n",
    "phi = sp.symbols('phi',real=True)\n",
    "eq1 = -I_com_theta[0,2]*Omega**2+5*a*Az-5*a*Bz\n",
    "eq2 = -5*a*Ay+5*a*By\n",
    "eq3 = Ay+By-m*g*sp.cos(phi)\n",
    "eq4 = Az+Bz+m*g*sp.sin(phi)\n",
    "result = sp.solve([eq1,eq2,eq3,eq4],(Ay,Az,By,Bz))\n"
   ]
  },
  {
   "cell_type": "code",
   "execution_count": 76,
   "metadata": {},
   "outputs": [
    {
     "output_type": "execute_result",
     "data": {
      "text/plain": [
       "                   2  2  \n",
       "0.577350269189626⋅Ω ⋅a ⋅m"
      ],
      "image/png": "[encoded data removed]",
      "text/latex": "$\\displaystyle 0.577350269189626 \\Omega^{2} a^{2} m$"
     },
     "metadata": {},
     "execution_count": 76
    }
   ],
   "source": [
    "I_com_theta[0,2]*Omega**2"
   ]
  },
  {
   "cell_type": "code",
   "execution_count": 79,
   "metadata": {},
   "outputs": [
    {
     "output_type": "execute_result",
     "data": {
      "text/plain": [
       "  ⎛                    2                 ⎞\n",
       "m⋅⎝0.0577350269189626⋅Ω ⋅a - 0.5⋅g⋅sin(φ)⎠"
      ],
      "image/png": "[encoded data removed]",
      "text/latex": "$\\displaystyle m \\left(0.0577350269189626 \\Omega^{2} a - 0.5 g \\sin{\\left(\\phi \\right)}\\right)$"
     },
     "metadata": {},
     "execution_count": 79
    }
   ],
   "source": [
    "sp.simplify(result.get(Az))"
   ]
  },
  {
   "cell_type": "code",
   "execution_count": 74,
   "metadata": {},
   "outputs": [
    {
     "output_type": "execute_result",
     "data": {
      "text/plain": [
       "0.5⋅g⋅m⋅cos(φ)"
      ],
      "image/png": "[encoded data removed]",
      "text/latex": "$\\displaystyle 0.5 g m \\cos{\\left(\\phi \\right)}$"
     },
     "metadata": {},
     "execution_count": 74
    }
   ],
   "source": [
    "result.get(By)"
   ]
  },
  {
   "cell_type": "code",
   "execution_count": 75,
   "metadata": {},
   "outputs": [
    {
     "output_type": "execute_result",
     "data": {
      "text/plain": [
       "          ⎛                   2                     ⎞\n",
       "2.0e-16⋅m⋅⎝288675134594813.0⋅Ω ⋅a - 2.5e+15⋅g⋅sin(φ)⎠"
      ],
      "image/png": "[encoded data removed]",
      "text/latex": "$\\displaystyle 2.0 \\cdot 10^{-16} m \\left(288675134594813.0 \\Omega^{2} a - 2.5 \\cdot 10^{15} g \\sin{\\left(\\phi \\right)}\\right)$"
     },
     "metadata": {},
     "execution_count": 75
    }
   ],
   "source": [
    "sp.simplify(result.get(Bz))"
   ]
  },
  {
   "cell_type": "code",
   "execution_count": null,
   "metadata": {},
   "outputs": [],
   "source": []
  }
 ]
}